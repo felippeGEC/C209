{
  "nbformat": 4,
  "nbformat_minor": 0,
  "metadata": {
    "colab": {
      "name": "Untitled3.ipynb",
      "provenance": [],
      "collapsed_sections": [],
      "authorship_tag": "ABX9TyPoYEDRwop5Sxvh0G+lOAnJ",
      "include_colab_link": true
    },
    "kernelspec": {
      "name": "python3",
      "display_name": "Python 3"
    }
  },
  "cells": [
    {
      "cell_type": "markdown",
      "metadata": {
        "id": "view-in-github",
        "colab_type": "text"
      },
      "source": [
        "<a href=\"https://colab.research.google.com/github/felippeGEC/C209/blob/main/Exemplo1.ipynb\" target=\"_parent\"><img src=\"https://colab.research.google.com/assets/colab-badge.svg\" alt=\"Open In Colab\"/></a>"
      ]
    },
    {
      "cell_type": "code",
      "metadata": {
        "id": "B0h3BpQwuj9_"
      },
      "source": [
        "import pandas as pd\r\n",
        "\r\n",
        "data = pd.read_csv(\"Mall_Customers.csv\", sep=\";\")"
      ],
      "execution_count": 5,
      "outputs": []
    },
    {
      "cell_type": "code",
      "metadata": {
        "id": "cB2VF7EJ3lZX"
      },
      "source": [
        "import matplotlib.pyplot as plt\r\n",
        "\r\n",
        "data = data.dropna()\r\n",
        "plt.rcParams['figure.dpi'] = 150\r\n",
        "plt.scatter(data[\"Age\"], data[\"Spending Score (1-100)\"], marker=\"o\", edgecolor=\"black\")\r\n",
        "plt.show()\r\n",
        "\r\n",
        "\r\n"
      ],
      "execution_count": null,
      "outputs": []
    },
    {
      "cell_type": "code",
      "metadata": {
        "id": "2SWarCyU5ZhG"
      },
      "source": [
        "from sklearn.cluster import KMeans\r\n",
        "import numpy as np\r\n",
        "from matplotlib.lines import Line2D"
      ],
      "execution_count": 9,
      "outputs": []
    },
    {
      "cell_type": "code",
      "metadata": {
        "id": "MbeYp8ON5m7X"
      },
      "source": [
        "x = [[i[\"Age\"], i[\"Spending Score (1-100)\"]] for _, i in data.iterrows()]\r\n",
        "x = np.array(x)\r\n",
        "\r\n",
        "modelo = KMeans(n_clusters=14)\r\n",
        "modelo.fit(x)"
      ],
      "execution_count": null,
      "outputs": []
    },
    {
      "cell_type": "code",
      "metadata": {
        "id": "GOEFNphR6TYz"
      },
      "source": [
        "y_km = modelo.predict(x)\r\n",
        "markers = list(Line2D.markers.keys())\r\n",
        "\r\n",
        "for i in range(14):\r\n",
        "    plt.scatter(x[y_km == i, 0], x[y_km == i, 1], c=np.random.rand(3,), marker=markers[i], label=\"grupo 1\")\r\n",
        "\r\n",
        "plt.show()"
      ],
      "execution_count": null,
      "outputs": []
    },
    {
      "cell_type": "code",
      "metadata": {
        "id": "oxjmM3yO6tSG"
      },
      "source": [
        ""
      ],
      "execution_count": null,
      "outputs": []
    }
  ]
}